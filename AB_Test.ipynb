{
 "cells": [
  {
   "cell_type": "markdown",
   "metadata": {},
   "source": [
    "# Анализ результатов АБ-теста"
   ]
  },
  {
   "cell_type": "markdown",
   "metadata": {},
   "source": [
    "В данном задании вам нужно будет\n",
    "\n",
    "- проанализировать АБ тест, проведенный на реальных пользователях Яндекса\n",
    "- подтвердить или опровергнуть наличие изменений в пользовательском поведении между контрольной (control) и тестовой (exp) группами\n",
    "- определить характер этих изменений и практическую значимость вводимого изменения\n",
    "- понять, какая из пользовательских групп более всего проигрывает / выигрывает от тестируемого изменения (локализовать изменение)"
   ]
  },
  {
   "cell_type": "code",
   "execution_count": 1,
   "metadata": {
    "ExecuteTime": {
     "end_time": "2018-01-22T19:21:30.242352Z",
     "start_time": "2018-01-22T19:21:29.332792Z"
    }
   },
   "outputs": [],
   "source": [
    "import pandas as pd\n",
    "import numpy as np\n",
    "import scipy.stats as sts\n",
    "%matplotlib inline\n",
    "from matplotlib import pyplot as plt\n",
    "from statsmodels.sandbox.stats.multicomp import multipletests "
   ]
  },
  {
   "cell_type": "code",
   "execution_count": 18,
   "metadata": {
    "ExecuteTime": {
     "end_time": "2018-01-23T09:47:29.915176Z",
     "start_time": "2018-01-23T09:47:29.909206Z"
    }
   },
   "outputs": [],
   "source": [
    "import scipy\n",
    "from scipy.stats import probplot"
   ]
  },
  {
   "cell_type": "markdown",
   "metadata": {},
   "source": [
    "## Описание данных:\n",
    "\n",
    "userID: уникальный идентификатор пользователя\n",
    "browser: браузер, который использовал userID\n",
    "slot: в каком статусе пользователь участвовал в исследовании (exp = видел измененную страницу, control = видел неизменную страницу)\n",
    "n_clicks: количество кликов, которые пользоваль совершил за n_queries\n",
    "n_queries: количество запросов, который совершил userID, пользуясь браузером browser\n",
    "n_nonclk_queries: количество запросов пользователя, в которых им не было совершено ни одного клика\n",
    "Обращаем ваше внимание, что не все люди используют только один браузер, поэтому в столбце userID есть повторяющиеся идентификаторы. В предлагаемых данных уникальным является сочетание userID и browser.\n"
   ]
  },
  {
   "cell_type": "code",
   "execution_count": 2,
   "metadata": {
    "ExecuteTime": {
     "end_time": "2018-01-22T14:33:06.268074Z",
     "start_time": "2018-01-22T14:33:05.706690Z"
    }
   },
   "outputs": [
    {
     "data": {
      "text/html": [
       "<div>\n",
       "<style scoped>\n",
       "    .dataframe tbody tr th:only-of-type {\n",
       "        vertical-align: middle;\n",
       "    }\n",
       "\n",
       "    .dataframe tbody tr th {\n",
       "        vertical-align: top;\n",
       "    }\n",
       "\n",
       "    .dataframe thead th {\n",
       "        text-align: right;\n",
       "    }\n",
       "</style>\n",
       "<table border=\"1\" class=\"dataframe\">\n",
       "  <thead>\n",
       "    <tr style=\"text-align: right;\">\n",
       "      <th></th>\n",
       "      <th>userID</th>\n",
       "      <th>browser</th>\n",
       "      <th>slot</th>\n",
       "      <th>n_clicks</th>\n",
       "      <th>n_queries</th>\n",
       "      <th>n_nonclk_queries</th>\n",
       "    </tr>\n",
       "  </thead>\n",
       "  <tbody>\n",
       "    <tr>\n",
       "      <th>0</th>\n",
       "      <td>1</td>\n",
       "      <td>Browser #2</td>\n",
       "      <td>exp</td>\n",
       "      <td>23</td>\n",
       "      <td>32</td>\n",
       "      <td>19</td>\n",
       "    </tr>\n",
       "    <tr>\n",
       "      <th>1</th>\n",
       "      <td>3</td>\n",
       "      <td>Browser #4</td>\n",
       "      <td>exp</td>\n",
       "      <td>3</td>\n",
       "      <td>4</td>\n",
       "      <td>2</td>\n",
       "    </tr>\n",
       "    <tr>\n",
       "      <th>2</th>\n",
       "      <td>5</td>\n",
       "      <td>Browser #4</td>\n",
       "      <td>exp</td>\n",
       "      <td>29</td>\n",
       "      <td>35</td>\n",
       "      <td>16</td>\n",
       "    </tr>\n",
       "    <tr>\n",
       "      <th>3</th>\n",
       "      <td>6</td>\n",
       "      <td>Browser #4</td>\n",
       "      <td>control</td>\n",
       "      <td>12</td>\n",
       "      <td>6</td>\n",
       "      <td>0</td>\n",
       "    </tr>\n",
       "    <tr>\n",
       "      <th>4</th>\n",
       "      <td>7</td>\n",
       "      <td>Browser #4</td>\n",
       "      <td>exp</td>\n",
       "      <td>54</td>\n",
       "      <td>68</td>\n",
       "      <td>30</td>\n",
       "    </tr>\n",
       "  </tbody>\n",
       "</table>\n",
       "</div>"
      ],
      "text/plain": [
       "   userID     browser     slot  n_clicks  n_queries  n_nonclk_queries\n",
       "0       1  Browser #2      exp        23         32                19\n",
       "1       3  Browser #4      exp         3          4                 2\n",
       "2       5  Browser #4      exp        29         35                16\n",
       "3       6  Browser #4  control        12          6                 0\n",
       "4       7  Browser #4      exp        54         68                30"
      ]
     },
     "execution_count": 2,
     "metadata": {},
     "output_type": "execute_result"
    }
   ],
   "source": [
    "data = pd.read_csv('ab_browser_test.csv')\n",
    "data.head()"
   ]
  },
  {
   "cell_type": "markdown",
   "metadata": {},
   "source": [
    "### Задание 1.\n",
    "Основная метрика, на которой мы сосредоточимся в этой работе, — это количество пользовательских кликов на web-странице в зависимости от тестируемого изменения этой страницы.\n",
    "\n",
    "Посчитайте, насколько в группе exp больше пользовательских кликов по сравнению с группой control в процентах от числа кликов в контрольной группе.\n",
    "\n",
    "Полученный процент округлите до третьего знака после точки."
   ]
  },
  {
   "cell_type": "code",
   "execution_count": 3,
   "metadata": {
    "ExecuteTime": {
     "end_time": "2018-01-16T13:49:33.151294Z",
     "start_time": "2018-01-16T13:49:33.058556Z"
    }
   },
   "outputs": [
    {
     "data": {
      "text/plain": [
       "Browser #4     156833\n",
       "Browser #22    142905\n",
       "Browser #2     110737\n",
       "Browser #14     89123\n",
       "Browser #20     33929\n",
       "Browser #17     32607\n",
       "Name: browser, dtype: int64"
      ]
     },
     "execution_count": 3,
     "metadata": {},
     "output_type": "execute_result"
    }
   ],
   "source": [
    "data.browser.value_counts()"
   ]
  },
  {
   "cell_type": "code",
   "execution_count": 4,
   "metadata": {
    "ExecuteTime": {
     "end_time": "2018-01-16T16:00:23.439930Z",
     "start_time": "2018-01-16T16:00:21.488023Z"
    }
   },
   "outputs": [
    {
     "data": {
      "text/plain": [
       "userID              299057.0\n",
       "n_clicks                 5.0\n",
       "n_queries                5.0\n",
       "n_nonclk_queries         2.0\n",
       "dtype: float64"
      ]
     },
     "execution_count": 4,
     "metadata": {},
     "output_type": "execute_result"
    }
   ],
   "source": [
    "data[data.slot=='exp'].median()"
   ]
  },
  {
   "cell_type": "code",
   "execution_count": 5,
   "metadata": {
    "ExecuteTime": {
     "end_time": "2018-01-16T16:01:22.630422Z",
     "start_time": "2018-01-16T16:01:22.528011Z"
    }
   },
   "outputs": [
    {
     "data": {
      "text/plain": [
       "control    284554\n",
       "exp        281580\n",
       "Name: slot, dtype: int64"
      ]
     },
     "execution_count": 5,
     "metadata": {},
     "output_type": "execute_result"
    }
   ],
   "source": [
    "data.slot.value_counts()"
   ]
  },
  {
   "cell_type": "code",
   "execution_count": 6,
   "metadata": {
    "ExecuteTime": {
     "end_time": "2018-01-16T16:00:50.165737Z",
     "start_time": "2018-01-16T16:00:48.195435Z"
    }
   },
   "outputs": [
    {
     "data": {
      "text/plain": [
       "userID              299620.5\n",
       "n_clicks                 4.0\n",
       "n_queries                5.0\n",
       "n_nonclk_queries         2.0\n",
       "dtype: float64"
      ]
     },
     "execution_count": 6,
     "metadata": {},
     "output_type": "execute_result"
    }
   ],
   "source": [
    "data[data.slot=='control'].median()"
   ]
  },
  {
   "cell_type": "code",
   "execution_count": 7,
   "metadata": {
    "ExecuteTime": {
     "end_time": "2018-01-23T11:53:49.179110Z",
     "start_time": "2018-01-23T11:53:49.099761Z"
    }
   },
   "outputs": [],
   "source": [
    "n_control, n_exp = data.groupby(['slot']).n_clicks.sum()"
   ]
  },
  {
   "cell_type": "code",
   "execution_count": 8,
   "metadata": {
    "ExecuteTime": {
     "end_time": "2018-01-23T11:53:51.011695Z",
     "start_time": "2018-01-23T11:53:51.004480Z"
    }
   },
   "outputs": [
    {
     "data": {
      "text/plain": [
       "1.6135689824415822"
      ]
     },
     "execution_count": 8,
     "metadata": {},
     "output_type": "execute_result"
    }
   ],
   "source": [
    "(n_exp/n_control-1)*100"
   ]
  },
  {
   "cell_type": "markdown",
   "metadata": {
    "ExecuteTime": {
     "end_time": "2018-01-15T16:20:18.485983Z",
     "start_time": "2018-01-15T16:20:18.480478Z"
    }
   },
   "source": [
    "### Задание 2.\n",
    "Давайте попробуем посмотреть более внимательно на разницу между двумя группами (control и exp) относительно количества пользовательских кликов.\n",
    "\n",
    "Для этого постройте с помощью бутстрепа 95% доверительный интервал для средних значений и медиан количества кликов в каждой из двух групп. Отметьте все верные утверждения."
   ]
  },
  {
   "cell_type": "code",
   "execution_count": 9,
   "metadata": {
    "ExecuteTime": {
     "end_time": "2018-01-23T09:48:35.304481Z",
     "start_time": "2018-01-23T09:48:35.298726Z"
    }
   },
   "outputs": [],
   "source": [
    "def iter_bootstrap_samples(data, n_samples):\n",
    "    i = 0\n",
    "    while i < n_samples:\n",
    "        indices = np.random.randint(0, len(data), len(data))\n",
    "        sample = data[indices]\n",
    "        yield sample\n",
    "        i += 1"
   ]
  },
  {
   "cell_type": "code",
   "execution_count": 14,
   "metadata": {
    "ExecuteTime": {
     "end_time": "2018-01-23T09:48:36.536774Z",
     "start_time": "2018-01-23T09:48:36.531731Z"
    }
   },
   "outputs": [],
   "source": [
    "def stat_intervals(stat, alpha):\n",
    "    boundaries = np.percentile(stat, [100 * alpha / 2., 100 * (1 - alpha / 2.)])\n",
    "    return boundaries"
   ]
  },
  {
   "cell_type": "code",
   "execution_count": null,
   "metadata": {
    "ExecuteTime": {
     "end_time": "2018-01-23T10:05:10.243157Z",
     "start_time": "2018-01-23T10:01:38.165771Z"
    }
   },
   "outputs": [],
   "source": [
    "limean, limedian=[], []\n",
    "for i,j in zip(iter_bootstrap_samples(data[data.slot == 'exp'].n_clicks.values, 10000), iter_bootstrap_samples(data[data.slot == 'control'].n_clicks.values, 10000)):\n",
    "    limean.append(np.mean(i) - np.mean(j))\n",
    "    limedian.append(np.median(i) - np.median(j))"
   ]
  },
  {
   "cell_type": "code",
   "execution_count": 15,
   "metadata": {},
   "outputs": [
    {
     "name": "stdout",
     "output_type": "stream",
     "text": [
      "mean  [0.19601687 0.4086502 ]\n",
      "median  [1. 1.]\n"
     ]
    }
   ],
   "source": [
    "print('mean ', stat_intervals(limean, 0.05))\n",
    "print('median ', stat_intervals(limedian, 0.05))"
   ]
  },
  {
   "cell_type": "markdown",
   "metadata": {},
   "source": [
    "Ответ:\n",
    " - 95% доверительный интервал для разности средних не содержит ноль, похоже, средние отличаются статистически значимо\n",
    "\n",
    " - 95% доверительный интервал для разности медиан не содержит ноль, похоже, медианы отличаются статистически значимо\n"
   ]
  },
  {
   "cell_type": "code",
   "execution_count": 16,
   "metadata": {
    "ExecuteTime": {
     "end_time": "2018-01-23T09:47:42.245577Z",
     "start_time": "2018-01-23T09:47:37.612922Z"
    }
   },
   "outputs": [],
   "source": [
    "exp_clicks_mean = list(map(np.mean, data[data.slot=='exp'].n_clicks.values))\n",
    "control_clicks_mean = list(map(np.mean, data[data.slot=='control'].n_clicks.values))"
   ]
  },
  {
   "cell_type": "markdown",
   "metadata": {},
   "source": [
    "### Задание 3-4. \n",
    "t-критерий Стьюдента имеет множество достоинств, и потому его достаточно часто применяют в AB экспериментах. Иногда его применение может быть необоснованно из-за сильной скошенности распределения данных.\n",
    "\n",
    "Давайте постараемся понять, когда t-критерий можно применять и как это проверить на реальных данных.\n",
    "Чтобы действительно предположения t-критерия выполнялись необходимо, чтобы:\n",
    " - среднее значение в выборке было распределено нормально\n",
    " - несмещенная оценка дисперсии c масштабирующим коэффициентом — была распределена по хи-квадрат c n−1 степенями свободы.\n",
    " \n",
    "Оба этих предположения можно проверить с помощью бутстрепа. Ограничимся сейчас только контрольной группой, в которой распределение кликов будем называть данными в рамках данного вопроса.\n",
    "\n",
    "Поскольку мы не знаем истинного распределения генеральной совокупности, мы можем применить бутстреп, чтобы понять, как распределены среднее значение и выборочная дисперсия. Для этого\n",
    "\n",
    "1. Получите из данных n_boot_samples псевдовыборок.\n",
    "2. По каждой из этих выборок посчитайте среднее и сумму квадратов отклонения от выборочного среднего (control_boot_chi_squared)\n",
    "3. Для получившегося вектора средних значений из n_boot_samples постройте q-q plot с помощью scipy.stats.probplot для нормального распределения\n",
    "4. Для получившегося вектора сумм квадратов отклонения от выборочного среднего постройте qq-plot с помощью scipy.stats.probplot для хи-квадрат распределения с помощью команды scipy.stats.probplot\n",
    "\n",
    "Чтобы получить такой же ответ, как у нас, зафиксируйте seed = 0 и количество псевдовыборок = 500:\n",
    "\n",
    "В качестве ответа отметьте сделайте заключение на основании значений R2, которые генерирует scipy.stats.probplot при отображении qq-графиков: одно c графика для среднего и одно с графика для выборочной суммы квадратов отклонения от выборочной суммы.\n"
   ]
  },
  {
   "cell_type": "code",
   "execution_count": 19,
   "metadata": {
    "ExecuteTime": {
     "end_time": "2018-01-23T09:48:30.427844Z",
     "start_time": "2018-01-23T09:48:30.416223Z"
    }
   },
   "outputs": [],
   "source": [
    "np.random.seed(0)\n",
    "n_boot_samples = 500\n",
    "limean2, listd = [], []\n",
    "for i in iter_bootstrap_samples(data[data.slot == 'control'].n_clicks.values, n_boot_samples):\n",
    "    limean2.append(np.mean(i))\n",
    "    listd.append(scipy.std(i))"
   ]
  },
  {
   "cell_type": "code",
   "execution_count": 45,
   "metadata": {
    "ExecuteTime": {
     "end_time": "2018-01-23T09:47:31.024440Z",
     "start_time": "2018-01-23T09:47:31.015435Z"
    }
   },
   "outputs": [
    {
     "name": "stdout",
     "output_type": "stream",
     "text": [
      "0.9979748364604202\n"
     ]
    },
    {
     "data": {
      "image/png": "[encoded data removed]",
      "text/plain": [
       "<matplotlib.figure.Figure at 0x7fa0fb8bb438>"
      ]
     },
     "metadata": {},
     "output_type": "display_data"
    }
   ],
   "source": [
    "_, r_mean = probplot(limean2, plot=plt, rvalue=True);\n",
    "print(r_mean[2])"
   ]
  },
  {
   "cell_type": "code",
   "execution_count": 46,
   "metadata": {
    "ExecuteTime": {
     "end_time": "2018-01-18T19:34:57.040246Z",
     "start_time": "2018-01-18T19:34:56.860009Z"
    }
   },
   "outputs": [
    {
     "name": "stdout",
     "output_type": "stream",
     "text": [
      "0.9986400904214093\n"
     ]
    },
    {
     "data": {
      "image/png": "[encoded data removed]",
      "text/plain": [
       "<matplotlib.figure.Figure at 0x7fa0fb7409b0>"
      ]
     },
     "metadata": {},
     "output_type": "display_data"
    }
   ],
   "source": [
    "_, r_std=probplot(listd, sparams=(len(listd)-1), dist=\"chi2\", plot=plt, rvalue=True)\n",
    "print(r_std[2])"
   ]
  },
  {
   "cell_type": "markdown",
   "metadata": {},
   "source": [
    "Ответ:\n",
    " - $$R^2$$ для выборочной суммы квадратов отклонения от выборочной суммы получился больше, чем 0.99\n",
    "\n",
    " - $$R^2$$ для выборочного среднего получился больше, чем 0.99"
   ]
  },
  {
   "cell_type": "markdown",
   "metadata": {},
   "source": [
    "### 5. Одним из возможных аналогов t-критерия, которым можно воспрользоваться, является тест Манна-Уитни. На достаточно обширном классе распределений он является асимптотически более эффективным, чем t-критерий, и при этом не требует параметрических предположений о характере распределения.\n",
    "\n",
    "Разделите выборку на две части, соответствующие control и exp группам. Преобразуйте данные к виду, чтобы каждому пользователю соответствовало суммарное значение его кликов. С помощью критерия Манна-Уитни проверьте гипотезу о равенстве средних. Что можно сказать о получившемся значении достигаемого уровня значимости ? Выберите все правильные ответы"
   ]
  },
  {
   "cell_type": "code",
   "execution_count": 24,
   "metadata": {
    "ExecuteTime": {
     "end_time": "2018-01-18T19:52:54.993166Z",
     "start_time": "2018-01-18T19:52:54.789893Z"
    }
   },
   "outputs": [],
   "source": [
    "control_s = data[data.slot == 'control'].groupby(by=['userID']).n_clicks.sum()\n",
    "exp_s = data[data.slot == 'exp'].groupby(by=['userID']).n_clicks.sum()"
   ]
  },
  {
   "cell_type": "code",
   "execution_count": 26,
   "metadata": {
    "ExecuteTime": {
     "end_time": "2018-01-18T19:53:49.939107Z",
     "start_time": "2018-01-18T19:53:49.847473Z"
    }
   },
   "outputs": [
    {
     "data": {
      "text/plain": [
       "MannwhitneyuResult(statistic=38901259929.0, pvalue=4.3471471887604393e-75)"
      ]
     },
     "execution_count": 26,
     "metadata": {},
     "output_type": "execute_result"
    }
   ],
   "source": [
    "sts.mannwhitneyu(control_s, exp_s)"
   ]
  },
  {
   "cell_type": "markdown",
   "metadata": {},
   "source": [
    "Ответ:\n",
    "Получившееся значение достигаемого уровня значимости свидетельствует о статистической значимости отличий между двумя выборками"
   ]
  },
  {
   "cell_type": "markdown",
   "metadata": {},
   "source": [
    "### 6. Проверьте, для какого из браузеров наиболее сильно выражено отличие между количеством кликов в контрольной и экспериментальной группах.\n",
    "\n",
    "Для этого примените для каждого из срезов (по каждому из уникальных значений столбца browser) критерий Манна-Уитни между control и exp группами и сделайте поправку Холма-Бонферрони на множественную проверку с α=0.05.\n",
    "\n",
    "Какое заключение можно сделать исходя из полученных результатов ?\n",
    "\n",
    "В качестве ответа введите количество незначимых изменений с точки зрения результатов, полученных после введения коррекции.\n"
   ]
  },
  {
   "cell_type": "code",
   "execution_count": 22,
   "metadata": {
    "ExecuteTime": {
     "end_time": "2018-01-22T17:01:48.717837Z",
     "start_time": "2018-01-22T17:01:48.715157Z"
    }
   },
   "outputs": [],
   "source": [
    "gr = data.groupby(by=['browser'])"
   ]
  },
  {
   "cell_type": "code",
   "execution_count": 32,
   "metadata": {
    "ExecuteTime": {
     "end_time": "2018-01-23T11:56:56.715862Z",
     "start_time": "2018-01-23T11:56:56.529933Z"
    }
   },
   "outputs": [],
   "source": [
    "dick = {}\n",
    "for name, group in gr:\n",
    "    grr = group.groupby(by=['slot'])\n",
    "    dick[name] = mannwhitneyu(grr.get_group('control').n_clicks, grr.get_group('exp').n_clicks, alternative='two-sided')"
   ]
  },
  {
   "cell_type": "code",
   "execution_count": 33,
   "metadata": {
    "ExecuteTime": {
     "end_time": "2018-01-23T11:50:01.730836Z",
     "start_time": "2018-01-23T11:50:01.727109Z"
    }
   },
   "outputs": [
    {
     "data": {
      "text/plain": [
       "{'Browser #14': MannwhitneyuResult(statistic=806984730.5, pvalue=0.0),\n",
       " 'Browser #17': MannwhitneyuResult(statistic=131389681.0, pvalue=0.07480120286021603),\n",
       " 'Browser #2': MannwhitneyuResult(statistic=1522572720.0, pvalue=0.0544877208394482),\n",
       " 'Browser #20': MannwhitneyuResult(statistic=143791805.0, pvalue=0.9073331277747075),\n",
       " 'Browser #22': MannwhitneyuResult(statistic=2557723040.5, pvalue=0.5148110304420064),\n",
       " 'Browser #4': MannwhitneyuResult(statistic=3072447765.0, pvalue=0.8152123531690997)}"
      ]
     },
     "execution_count": 33,
     "metadata": {},
     "output_type": "execute_result"
    }
   ],
   "source": [
    "dick"
   ]
  },
  {
   "cell_type": "code",
   "execution_count": 34,
   "metadata": {
    "ExecuteTime": {
     "end_time": "2018-01-23T07:02:48.813230Z",
     "start_time": "2018-01-23T07:02:48.808617Z"
    }
   },
   "outputs": [],
   "source": [
    "df = pd.DataFrame.from_dict(dick).T\n",
    "df.columns = ['statistic', 'pval']"
   ]
  },
  {
   "cell_type": "code",
   "execution_count": 35,
   "metadata": {
    "ExecuteTime": {
     "end_time": "2018-01-23T07:05:02.170225Z",
     "start_time": "2018-01-23T07:05:01.800033Z"
    }
   },
   "outputs": [],
   "source": [
    "reject, pval, a1, a2 = multipletests(df.statistic, alpha=0.05, method='holm')\n",
    "df['corrected'] = pval\n",
    "df['reject'] = reject"
   ]
  },
  {
   "cell_type": "code",
   "execution_count": 36,
   "metadata": {
    "ExecuteTime": {
     "end_time": "2018-01-23T07:05:04.326233Z",
     "start_time": "2018-01-23T07:05:04.312401Z"
    }
   },
   "outputs": [
    {
     "data": {
      "text/html": [
       "<div>\n",
       "<style scoped>\n",
       "    .dataframe tbody tr th:only-of-type {\n",
       "        vertical-align: middle;\n",
       "    }\n",
       "\n",
       "    .dataframe tbody tr th {\n",
       "        vertical-align: top;\n",
       "    }\n",
       "\n",
       "    .dataframe thead th {\n",
       "        text-align: right;\n",
       "    }\n",
       "</style>\n",
       "<table border=\"1\" class=\"dataframe\">\n",
       "  <thead>\n",
       "    <tr style=\"text-align: right;\">\n",
       "      <th></th>\n",
       "      <th>statistic</th>\n",
       "      <th>pval</th>\n",
       "      <th>corrected</th>\n",
       "      <th>reject</th>\n",
       "    </tr>\n",
       "  </thead>\n",
       "  <tbody>\n",
       "    <tr>\n",
       "      <th>Browser #14</th>\n",
       "      <td>8.069847e+08</td>\n",
       "      <td>0.000000</td>\n",
       "      <td>1.0</td>\n",
       "      <td>False</td>\n",
       "    </tr>\n",
       "    <tr>\n",
       "      <th>Browser #17</th>\n",
       "      <td>1.313897e+08</td>\n",
       "      <td>0.074801</td>\n",
       "      <td>1.0</td>\n",
       "      <td>False</td>\n",
       "    </tr>\n",
       "    <tr>\n",
       "      <th>Browser #2</th>\n",
       "      <td>1.522573e+09</td>\n",
       "      <td>0.054488</td>\n",
       "      <td>1.0</td>\n",
       "      <td>False</td>\n",
       "    </tr>\n",
       "    <tr>\n",
       "      <th>Browser #20</th>\n",
       "      <td>1.437918e+08</td>\n",
       "      <td>0.907333</td>\n",
       "      <td>1.0</td>\n",
       "      <td>False</td>\n",
       "    </tr>\n",
       "    <tr>\n",
       "      <th>Browser #22</th>\n",
       "      <td>2.557723e+09</td>\n",
       "      <td>0.514811</td>\n",
       "      <td>1.0</td>\n",
       "      <td>False</td>\n",
       "    </tr>\n",
       "    <tr>\n",
       "      <th>Browser #4</th>\n",
       "      <td>3.072448e+09</td>\n",
       "      <td>0.815212</td>\n",
       "      <td>1.0</td>\n",
       "      <td>False</td>\n",
       "    </tr>\n",
       "  </tbody>\n",
       "</table>\n",
       "</div>"
      ],
      "text/plain": [
       "                statistic      pval  corrected  reject\n",
       "Browser #14  8.069847e+08  0.000000        1.0   False\n",
       "Browser #17  1.313897e+08  0.074801        1.0   False\n",
       "Browser #2   1.522573e+09  0.054488        1.0   False\n",
       "Browser #20  1.437918e+08  0.907333        1.0   False\n",
       "Browser #22  2.557723e+09  0.514811        1.0   False\n",
       "Browser #4   3.072448e+09  0.815212        1.0   False"
      ]
     },
     "execution_count": 36,
     "metadata": {},
     "output_type": "execute_result"
    }
   ],
   "source": [
    "df"
   ]
  },
  {
   "cell_type": "markdown",
   "metadata": {},
   "source": [
    "### 7. Для каждого браузера в каждой из двух групп (control и exp) посчитайте долю запросов, в которых пользователь не кликнул ни разу. Это можно сделать, поделив сумму значений n_nonclk_queries на сумму значений n_queries. Умножив это значение на 100, получим процент некликнутых запросов, который можно легче проинтерпретировать.\n",
    "\n",
    "Сходятся ли результаты проведенного Вами анализа с показателем процента некликнутых запросов ?"
   ]
  },
  {
   "cell_type": "code",
   "execution_count": 56,
   "metadata": {
    "ExecuteTime": {
     "end_time": "2018-01-23T09:35:43.638601Z",
     "start_time": "2018-01-23T09:35:43.023489Z"
    }
   },
   "outputs": [],
   "source": [
    "dicck = {}\n",
    "ggrm = data.groupby(by=['browser', 'slot'])\n",
    "for name, group in ggrm:\n",
    "    dicck[name] = group['n_nonclk_queries'].sum()/group['n_queries'].sum()"
   ]
  },
  {
   "cell_type": "code",
   "execution_count": 57,
   "metadata": {
    "ExecuteTime": {
     "end_time": "2018-01-23T09:35:48.518861Z",
     "start_time": "2018-01-23T09:35:48.514283Z"
    }
   },
   "outputs": [
    {
     "data": {
      "text/plain": [
       "{('Browser #14', 'control'): 0.5759041136008114,\n",
       " ('Browser #14', 'exp'): 0.43755617361273291,\n",
       " ('Browser #17', 'control'): 0.36299366746282086,\n",
       " ('Browser #17', 'exp'): 0.3693741284866483,\n",
       " ('Browser #2', 'control'): 0.45962747179194652,\n",
       " ('Browser #2', 'exp'): 0.44982746948554703,\n",
       " ('Browser #20', 'control'): 0.40540484743383293,\n",
       " ('Browser #20', 'exp'): 0.38977376483717158,\n",
       " ('Browser #22', 'control'): 0.40593976593513353,\n",
       " ('Browser #22', 'exp'): 0.39853947219695463,\n",
       " ('Browser #4', 'control'): 0.46970929635142739,\n",
       " ('Browser #4', 'exp'): 0.45142941903584671}"
      ]
     },
     "execution_count": 57,
     "metadata": {},
     "output_type": "execute_result"
    }
   ],
   "source": [
    "dicck"
   ]
  },
  {
   "cell_type": "code",
   "execution_count": 28,
   "metadata": {
    "ExecuteTime": {
     "end_time": "2018-01-23T10:57:42.425410Z",
     "start_time": "2018-01-23T10:57:42.422792Z"
    }
   },
   "outputs": [],
   "source": [
    "dh = data"
   ]
  },
  {
   "cell_type": "code",
   "execution_count": 29,
   "metadata": {
    "ExecuteTime": {
     "end_time": "2018-01-23T11:05:58.190487Z",
     "start_time": "2018-01-23T11:05:57.892483Z"
    }
   },
   "outputs": [],
   "source": [
    "x = dh[(dh.browser=='Browser #4') & (dh.slot=='exp')].n_clicks.values\n",
    "y = dh[(dh.browser=='Browser #4') & (dh.slot=='control')].n_clicks.values\n",
    "n1 = len(x)\n",
    "n2 = len(y)\n",
    "ranked = sts.rankdata(np.concatenate((x, y)))\n",
    "rankx = ranked[0:n1]  # get the x-ranks\n",
    "u1 = n1*n2 + (n1*(n1+1))/2.0 - np.sum(rankx, axis=0)  # calc U for x\n",
    "u2 = n1*n2 - u1  # remainder is U for y\n",
    "T = sts.tiecorrect(ranked)\n",
    "if T == 0:    \n",
    "    raise ValueError('All numbers are identical in amannwhitneyu')\n",
    "sd = np.sqrt(T * n1 * n2 * (n1+n2+1) / 12.0)\n",
    "meanrank = n1*n2/2.0 + 0.5 \n",
    "bigu = max(u1, u2)\n",
    "z = np.abs(bigu - meanrank)\n",
    "fact2 = 2.\n",
    "z = z / sd\n",
    "p_value = sts.norm.sf(z) * fact2"
   ]
  },
  {
   "cell_type": "code",
   "execution_count": 30,
   "metadata": {},
   "outputs": [
    {
     "data": {
      "text/plain": [
       "0.8152123531690997"
      ]
     },
     "execution_count": 30,
     "metadata": {},
     "output_type": "execute_result"
    }
   ],
   "source": [
    "p_value"
   ]
  },
  {
   "cell_type": "code",
   "execution_count": 89,
   "metadata": {
    "ExecuteTime": {
     "end_time": "2018-01-23T11:47:55.566924Z",
     "start_time": "2018-01-23T11:47:55.564609Z"
    }
   },
   "outputs": [],
   "source": [
    "import warnings"
   ]
  },
  {
   "cell_type": "code",
   "execution_count": 31,
   "metadata": {
    "ExecuteTime": {
     "end_time": "2018-01-23T11:46:07.299544Z",
     "start_time": "2018-01-23T11:46:07.170826Z"
    }
   },
   "outputs": [],
   "source": [
    "from collections import namedtuple\n",
    "MannwhitneyuResult = namedtuple('MannwhitneyuResult', ('statistic', 'pvalue'))\n",
    "def tiecorrect(rankvals):\n",
    "    arr = np.sort(rankvals)\n",
    "    idx = np.nonzero(np.r_[True, arr[1:] != arr[:-1], True])[0]\n",
    "    cnt = np.diff(idx).astype(np.float64)\n",
    "    size = np.float64(arr.size)\n",
    "    return 1.0 if size < 2 else 1.0 - (cnt**3 - cnt).sum() / (size**3 - size)\n",
    "\n",
    "def mannwhitneyu(x, y, use_continuity=True, alternative=None):\n",
    "    if alternative is None:\n",
    "        warnings.warn(\"Calling `mannwhitneyu` without specifying \"\n",
    "                      \"`alternative` is deprecated.\", DeprecationWarning)\n",
    "\n",
    "    x = np.asarray(x)\n",
    "    y = np.asarray(y)\n",
    "    n1 = len(x)\n",
    "    n2 = len(y)\n",
    "    ranked = sts.rankdata(np.concatenate((x, y)))\n",
    "    rankx = ranked[0:n1]  # get the x-ranks\n",
    "    u1 = n1*n2 + (n1*(n1+1))/2.0 - np.sum(rankx, axis=0)  # calc U for x\n",
    "    u2 = n1*n2 - u1  # remainder is U for y\n",
    "    T = tiecorrect(ranked)\n",
    "    if T == 0:\n",
    "        raise ValueError('All numbers are identical in mannwhitneyu')\n",
    "    sd = np.sqrt(T * n1 * n2 * (n1+n2+1) / 12.0)\n",
    "\n",
    "    meanrank = n1*n2/2.0 + 0.5 * use_continuity\n",
    "    if alternative is None or alternative == 'two-sided':\n",
    "        bigu = max(u1, u2)\n",
    "    elif alternative == 'less':\n",
    "        bigu = u1\n",
    "    elif alternative == 'greater':\n",
    "        bigu = u2\n",
    "    else:\n",
    "        raise ValueError(\"alternative should be None, 'less', 'greater' \"\n",
    "                         \"or 'two-sided'\")\n",
    "    z = (bigu - meanrank) / sd\n",
    "    if alternative is None:\n",
    "        # This behavior, equal to half the size of the two-sided\n",
    "        # p-value, is deprecated.\n",
    "        p = sts.distributions.norm.sf(abs(z))\n",
    "    elif alternative == 'two-sided':\n",
    "        p = 2 * sts.distributions.norm.sf(abs(z))\n",
    "    else:\n",
    "        p = sts.distributions.norm.sf(z)\n",
    "    u = u2\n",
    "    # This behavior is deprecated.\n",
    "    if alternative is None:\n",
    "        u = min(u1, u2)\n",
    "    return MannwhitneyuResult(u, p)"
   ]
  },
  {
   "cell_type": "code",
   "execution_count": null,
   "metadata": {},
   "outputs": [],
   "source": []
  }
 ],
 "metadata": {
  "kernelspec": {
   "display_name": "Python 3",
   "language": "python",
   "name": "python3"
  },
  "language_info": {
   "codemirror_mode": {
    "name": "ipython",
    "version": 3
   },
   "file_extension": ".py",
   "mimetype": "text/x-python",
   "name": "python",
   "nbconvert_exporter": "python",
   "pygments_lexer": "ipython3",
   "version": "3.6.3"
  },
  "toc": {
   "nav_menu": {},
   "number_sections": true,
   "sideBar": true,
   "skip_h1_title": false,
   "toc_cell": false,
   "toc_position": {},
   "toc_section_display": "block",
   "toc_window_display": true
  },
  "varInspector": {
   "cols": {
    "lenName": 16,
    "lenType": 16,
    "lenVar": 40
   },
   "kernels_config": {
    "python": {
     "delete_cmd_postfix": "",
     "delete_cmd_prefix": "del ",
     "library": "var_list.py",
     "varRefreshCmd": "print(var_dic_list())"
    },
    "r": {
     "delete_cmd_postfix": ") ",
     "delete_cmd_prefix": "rm(",
     "library": "var_list.r",
     "varRefreshCmd": "cat(var_dic_list()) "
    }
   },
   "position": {
    "height": "144px",
    "left": "877px",
    "right": "20px",
    "top": "117px",
    "width": "350px"
   },
   "types_to_exclude": [
    "module",
    "function",
    "builtin_function_or_method",
    "instance",
    "_Feature"
   ],
   "window_display": true
  }
 },
 "nbformat": 4,
 "nbformat_minor": 2
}
